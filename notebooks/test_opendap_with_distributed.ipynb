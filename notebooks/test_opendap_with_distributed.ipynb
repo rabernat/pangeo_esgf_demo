{
 "cells": [
  {
   "cell_type": "code",
   "execution_count": null,
   "metadata": {},
   "outputs": [],
   "source": [
    "import xarray as xr\n",
    "import dask\n",
    "xr.__version__"
   ]
  },
  {
   "cell_type": "code",
   "execution_count": null,
   "metadata": {},
   "outputs": [],
   "source": [
    "# create dataset from Unidata's test opendap endpoint, chunked in time\n",
    "url = 'http://remotetest.unidata.ucar.edu/thredds/dodsC/testdods/coads_climatology.nc'\n",
    "ds = xr.open_dataset(url, decode_times=False, chunks={'TIME': 1})"
   ]
  },
  {
   "cell_type": "code",
   "execution_count": null,
   "metadata": {},
   "outputs": [],
   "source": [
    "# all these work\n",
    "with dask.config.set(scheduler='synchronous'):\n",
    "    %time ds.SST.compute()\n",
    "with dask.config.set(scheduler='processes'):\n",
    "    %time ds.SST.compute()\n",
    "with dask.config.set(scheduler='threads'):\n",
    "    %time ds.SST.compute()"
   ]
  },
  {
   "cell_type": "code",
   "execution_count": null,
   "metadata": {},
   "outputs": [],
   "source": [
    "# this works too\n",
    "from dask.distributed import Client\n",
    "local_client = Client()\n",
    "with dask.config.set(get=local_client):\n",
    "    %time ds.SST.compute()"
   ]
  },
  {
   "cell_type": "code",
   "execution_count": null,
   "metadata": {},
   "outputs": [],
   "source": [
    "# but this does not\n",
    "cluster = KubeCluster(n_workers=2)\n",
    "kube_client = Client(cluster)\n",
    "display(cluster)\n",
    "with dask.config.set(get=kube_client):\n",
    "    %time ds.SST.compute()"
   ]
  }
 ],
 "metadata": {
  "kernelspec": {
   "display_name": "Python 3",
   "language": "python",
   "name": "python3"
  },
  "language_info": {
   "codemirror_mode": {
    "name": "ipython",
    "version": 3
   },
   "file_extension": ".py",
   "mimetype": "text/x-python",
   "name": "python",
   "nbconvert_exporter": "python",
   "pygments_lexer": "ipython3",
   "version": "3.6.2"
  }
 },
 "nbformat": 4,
 "nbformat_minor": 2
}
