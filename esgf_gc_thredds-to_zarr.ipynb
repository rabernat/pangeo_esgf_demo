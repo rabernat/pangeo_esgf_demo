{
 "cells": [
  {
   "cell_type": "code",
   "execution_count": 1,
   "metadata": {},
   "outputs": [
    {
     "data": {
      "text/plain": [
       "'0.11.0'"
      ]
     },
     "execution_count": 1,
     "metadata": {},
     "output_type": "execute_result"
    }
   ],
   "source": [
    "import xarray as xr\n",
    "import gcsfs\n",
    "xr.__version__"
   ]
  },
  {
   "cell_type": "markdown",
   "metadata": {},
   "source": [
    "## Manually Build OpenDAP URLs"
   ]
  },
  {
   "cell_type": "code",
   "execution_count": 2,
   "metadata": {},
   "outputs": [
    {
     "data": {
      "text/plain": [
       "['https://35.188.100.90.xip.io/thredds/dodsC/test/pr_Amon_GFDL-CM4_piControl_r1i1p1f1_gr1_015101-025012.nc',\n",
       " 'https://35.188.100.90.xip.io/thredds/dodsC/test/pr_Amon_GFDL-CM4_piControl_r1i1p1f1_gr1_025101-035012.nc',\n",
       " 'https://35.188.100.90.xip.io/thredds/dodsC/test/pr_Amon_GFDL-CM4_piControl_r1i1p1f1_gr1_035101-045012.nc',\n",
       " 'https://35.188.100.90.xip.io/thredds/dodsC/test/pr_Amon_GFDL-CM4_piControl_r1i1p1f1_gr1_045101-055012.nc',\n",
       " 'https://35.188.100.90.xip.io/thredds/dodsC/test/pr_Amon_GFDL-CM4_piControl_r1i1p1f1_gr1_055101-065012.nc']"
      ]
     },
     "execution_count": 2,
     "metadata": {},
     "output_type": "execute_result"
    }
   ],
   "source": [
    "ranges = ['015101-025012', '025101-035012', '035101-045012',\n",
    "          '045101-055012', '055101-065012']\n",
    "\n",
    "base = 'https://35.188.100.90.xip.io/thredds/dodsC/test/pr_Amon_GFDL-CM4_piControl_r1i1p1f1_gr1'\n",
    "urls = [f'{base}_{time_range}.nc'\n",
    "        for time_range in ranges]\n",
    "urls"
   ]
  },
  {
   "cell_type": "markdown",
   "metadata": {},
   "source": [
    "## Load with Xarray"
   ]
  },
  {
   "cell_type": "code",
   "execution_count": 3,
   "metadata": {},
   "outputs": [
    {
     "name": "stderr",
     "output_type": "stream",
     "text": [
      "/srv/conda/lib/python3.6/site-packages/xarray/coding/times.py:122: SerializationWarning: Unable to decode time axis into full numpy.datetime64 objects, continuing using dummy cftime.datetime objects instead, reason: dates out of range\n",
      "  result = decode_cf_datetime(example_value, units, calendar)\n"
     ]
    },
    {
     "data": {
      "text/plain": [
       "<xarray.Dataset>\n",
       "Dimensions:  (bnds: 2, lat: 180, lon: 288, time: 6000)\n",
       "Coordinates:\n",
       "  * bnds     (bnds) float64 1.0 2.0\n",
       "  * lat      (lat) float64 -89.5 -88.5 -87.5 -86.5 -85.5 ... 86.5 87.5 88.5 89.5\n",
       "  * lon      (lon) float64 0.625 1.875 3.125 4.375 ... 355.6 356.9 358.1 359.4\n",
       "  * time     (time) object 0151-01-16 12:00:00 ... 0650-12-16 12:00:00\n",
       "Data variables:\n",
       "    pr       (time, lat, lon) float32 dask.array<shape=(6000, 180, 288), chunksize=(120, 180, 288)>\n",
       "Attributes:\n",
       "    external_variables:              areacella\n",
       "    table_id:                        Amon\n",
       "    history:                         File was processed by fremetar (GFDL ana...\n",
       "    contact:                         gfdl.climate.model.info@noaa.gov\n",
       "    comment:                         <null ref>\n",
       "    tracking_id:                     hdl:21.14100/cdcd7052-c5b4-4e8f-83fc-fe1...\n",
       "    further_info_url:                https://furtherinfo.es-doc.org/CMIP6.NOA...\n",
       "    branch_time_in_child:            0.0\n",
       "    branch_method:                   standard\n",
       "    branch_time_in_parent:           54750.0\n",
       "    creation_date:                   2018-09-13T23:51:53Z\n",
       "    Conventions:                     CF-1.7 CMIP-6.0 UGRID-1.0\n",
       "    sub_experiment:                  none\n",
       "    frequency:                       monC\n",
       "    forcing_index:                   1\n",
       "    physics_index:                   1\n",
       "    initialization_index:            1\n",
       "    realization_index:               1\n",
       "    parent_variant_label:            r1i1p1f1\n",
       "    parent_experiment_id:            piControl-spinup\n",
       "    data_specs_version:              01.00.27\n",
       "    experiment_id:                   piControl\n",
       "    experiment:                      pre-industrial control\n",
       "    activity_id:                     CMIP\n",
       "    source_id:                       GFDL-CM4\n",
       "    source_type:                     AOGCM\n",
       "    institution_id:                  NOAA-GFDL\n",
       "    institution:                     National Oceanic and Atmospheric Adminis...\n",
       "    variable_id:                     pr\n",
       "    variant_info:                    N/A\n",
       "    mip_era:                         CMIP6\n",
       "    title:                           NOAA GFDL GFDL-CM4 model output prepared...\n",
       "    source:                          GFDL-CM4 (2018): \\naerosol: interactive\\...\n",
       "    parent_activity_id:              CMIP\n",
       "    parent_mip_era:                  CMIP6\n",
       "    parent_source_id:                GFDL-CM4\n",
       "    parent_time_units:               days since 1700-1-1\n",
       "    sub_experiment_id:               none\n",
       "    grid:                            atmos data regridded from Cubed-sphere (...\n",
       "    variant_label:                   r1i1p1f1\n",
       "    grid_label:                      gr1\n",
       "    license:                         CMIP6 model data produced by NOAA-GFDL i...\n",
       "    nominal_resolution:              100 km\n",
       "    product:                         model-output\n",
       "    realm:                           atmos\n",
       "    references:                      see further_info_url attribute\n",
       "    DODS_EXTRA.Unlimited_Dimension:  time"
      ]
     },
     "execution_count": 3,
     "metadata": {},
     "output_type": "execute_result"
    }
   ],
   "source": [
    "# convenience function to drop annoying bounds coordinates\n",
    "time_chunks = 120\n",
    "\n",
    "def drop_bounds(ds):\n",
    "    to_drop = [dv for dv in ds.data_vars if 'bnds' in dv]\n",
    "    return ds.drop(to_drop)\n",
    "ds = xr.open_mfdataset(urls, preprocess=drop_bounds,\n",
    "                       chunks={'time': time_chunks})\n",
    "ds"
   ]
  },
  {
   "cell_type": "code",
   "execution_count": 3,
   "metadata": {},
   "outputs": [],
   "source": [
    "gc_path = 'pangeo-data/esgf_test/pr_Amon_GFDL-CM4_piControl_r1i1p1f1_gr1'"
   ]
  },
  {
   "cell_type": "code",
   "execution_count": 4,
   "metadata": {},
   "outputs": [
    {
     "name": "stdout",
     "output_type": "stream",
     "text": [
      "Please visit this URL to authorize this application: https://accounts.google.com/o/oauth2/auth?response_type=code&client_id=586241054156-ls4nduknhnelm2u6jtdgii15gsa3iv4v.apps.googleusercontent.com&redirect_uri=urn%3Aietf%3Awg%3Aoauth%3A2.0%3Aoob&scope=https%3A%2F%2Fwww.googleapis.com%2Fauth%2Fdevstorage.full_control&state=iUEBAK4C9NYySYLbdjETEup3oLrIQX&access_type=offline&prompt=consent\n"
     ]
    },
    {
     "name": "stdin",
     "output_type": "stream",
     "text": [
      "Enter the authorization code:  4/oAB2UWEO8nVlXZQKp6swAvoUVvHe_jB1FHmS-VUN89VSNl51hFgdbbI\n"
     ]
    }
   ],
   "source": [
    "gcs = gcsfs.GCSFileSystem('pangeo-181919', token='browser')\n",
    "gcsmap = gcsfs.GCSMap(gc_path, gcs=gcs)"
   ]
  },
  {
   "cell_type": "code",
   "execution_count": 8,
   "metadata": {},
   "outputs": [
    {
     "data": {
      "text/plain": [
       "{'pr': {'compressor': Zstd(level=3)}}"
      ]
     },
     "execution_count": 8,
     "metadata": {},
     "output_type": "execute_result"
    }
   ],
   "source": [
    "import zarr\n",
    "encoding = {dvar: {'compressor': zarr.Zstd(level=3)} for dvar in ds.data_vars}\n",
    "encoding"
   ]
  },
  {
   "cell_type": "code",
   "execution_count": 9,
   "metadata": {},
   "outputs": [
    {
     "name": "stdout",
     "output_type": "stream",
     "text": [
      "[########################################] | 100% Completed | 40.7s\n"
     ]
    }
   ],
   "source": [
    "from dask.diagnostics import ProgressBar\n",
    "\n",
    "with ProgressBar():\n",
    "    ds.to_zarr(gcsmap, mode='w', encoding=encoding)"
   ]
  },
  {
   "cell_type": "code",
   "execution_count": 4,
   "metadata": {},
   "outputs": [
    {
     "data": {
      "text/plain": [
       "<xarray.Dataset>\n",
       "Dimensions:  (bnds: 2, lat: 180, lon: 288, time: 6000)\n",
       "Coordinates:\n",
       "  * bnds     (bnds) float64 1.0 2.0\n",
       "  * lat      (lat) float64 -89.5 -88.5 -87.5 -86.5 -85.5 ... 86.5 87.5 88.5 89.5\n",
       "  * lon      (lon) float64 0.625 1.875 3.125 4.375 ... 355.6 356.9 358.1 359.4\n",
       "  * time     (time) object 0151-01-16 12:00:00 ... 0650-12-16 12:00:00\n",
       "Data variables:\n",
       "    pr       (time, lat, lon) float32 dask.array<shape=(6000, 180, 288), chunksize=(120, 180, 288)>\n",
       "Attributes:\n",
       "    Conventions:                     CF-1.7 CMIP-6.0 UGRID-1.0\n",
       "    DODS_EXTRA.Unlimited_Dimension:  time\n",
       "    activity_id:                     CMIP\n",
       "    branch_method:                   standard\n",
       "    branch_time_in_child:            0.0\n",
       "    branch_time_in_parent:           54750.0\n",
       "    comment:                         <null ref>\n",
       "    contact:                         gfdl.climate.model.info@noaa.gov\n",
       "    creation_date:                   2018-09-13T23:51:53Z\n",
       "    data_specs_version:              01.00.27\n",
       "    experiment:                      pre-industrial control\n",
       "    experiment_id:                   piControl\n",
       "    external_variables:              areacella\n",
       "    forcing_index:                   1\n",
       "    frequency:                       monC\n",
       "    further_info_url:                https://furtherinfo.es-doc.org/CMIP6.NOA...\n",
       "    grid:                            atmos data regridded from Cubed-sphere (...\n",
       "    grid_label:                      gr1\n",
       "    history:                         File was processed by fremetar (GFDL ana...\n",
       "    initialization_index:            1\n",
       "    institution:                     National Oceanic and Atmospheric Adminis...\n",
       "    institution_id:                  NOAA-GFDL\n",
       "    license:                         CMIP6 model data produced by NOAA-GFDL i...\n",
       "    mip_era:                         CMIP6\n",
       "    nominal_resolution:              100 km\n",
       "    parent_activity_id:              CMIP\n",
       "    parent_experiment_id:            piControl-spinup\n",
       "    parent_mip_era:                  CMIP6\n",
       "    parent_source_id:                GFDL-CM4\n",
       "    parent_time_units:               days since 1700-1-1\n",
       "    parent_variant_label:            r1i1p1f1\n",
       "    physics_index:                   1\n",
       "    product:                         model-output\n",
       "    realization_index:               1\n",
       "    realm:                           atmos\n",
       "    references:                      see further_info_url attribute\n",
       "    source:                          GFDL-CM4 (2018): \\naerosol: interactive\\...\n",
       "    source_id:                       GFDL-CM4\n",
       "    source_type:                     AOGCM\n",
       "    sub_experiment:                  none\n",
       "    sub_experiment_id:               none\n",
       "    table_id:                        Amon\n",
       "    title:                           NOAA GFDL GFDL-CM4 model output prepared...\n",
       "    tracking_id:                     hdl:21.14100/cdcd7052-c5b4-4e8f-83fc-fe1...\n",
       "    variable_id:                     pr\n",
       "    variant_info:                    N/A\n",
       "    variant_label:                   r1i1p1f1"
      ]
     },
     "execution_count": 4,
     "metadata": {},
     "output_type": "execute_result"
    }
   ],
   "source": [
    "dsz = xr.open_zarr(gcsfs.GCSMap(gc_path))\n",
    "dsz"
   ]
  },
  {
   "cell_type": "code",
   "execution_count": 5,
   "metadata": {},
   "outputs": [
    {
     "data": {
      "application/vnd.jupyter.widget-view+json": {
       "model_id": "2be738a2f83a4f6cad98ba559347caf1",
       "version_major": 2,
       "version_minor": 0
      },
      "text/plain": [
       "VBox(children=(HTML(value='<h2>KubeCluster</h2>'), HBox(children=(HTML(value='\\n<div>\\n  <style scoped>\\n    .…"
      ]
     },
     "metadata": {},
     "output_type": "display_data"
    }
   ],
   "source": [
    "from dask.distributed import Client\n",
    "from dask_kubernetes import KubeCluster\n",
    "cluster = KubeCluster(n_workers=4)\n",
    "client = Client(cluster)\n",
    "cluster"
   ]
  },
  {
   "cell_type": "code",
   "execution_count": 6,
   "metadata": {},
   "outputs": [
    {
     "name": "stdout",
     "output_type": "stream",
     "text": [
      "CPU times: user 762 ms, sys: 76 ms, total: 838 ms\n",
      "Wall time: 6.58 s\n"
     ]
    }
   ],
   "source": [
    "%time pr_mean = dsz.pr.mean(dim='time').load()"
   ]
  },
  {
   "cell_type": "code",
   "execution_count": 7,
   "metadata": {},
   "outputs": [
    {
     "name": "stdout",
     "output_type": "stream",
     "text": [
      "CPU times: user 550 ms, sys: 44 ms, total: 594 ms\n",
      "Wall time: 2.81 s\n"
     ]
    }
   ],
   "source": [
    "%time pr_mean = dsz.pr.mean(dim='time').load()"
   ]
  },
  {
   "cell_type": "code",
   "execution_count": 9,
   "metadata": {},
   "outputs": [
    {
     "data": {
      "text/plain": [
       "1.24416"
      ]
     },
     "execution_count": 9,
     "metadata": {},
     "output_type": "execute_result"
    }
   ],
   "source": [
    "dsz.pr.nbytes/1e9"
   ]
  },
  {
   "cell_type": "code",
   "execution_count": null,
   "metadata": {},
   "outputs": [],
   "source": []
  }
 ],
 "metadata": {
  "kernelspec": {
   "display_name": "Python 3",
   "language": "python",
   "name": "python3"
  },
  "language_info": {
   "codemirror_mode": {
    "name": "ipython",
    "version": 3
   },
   "file_extension": ".py",
   "mimetype": "text/x-python",
   "name": "python",
   "nbconvert_exporter": "python",
   "pygments_lexer": "ipython3",
   "version": "3.6.7"
  }
 },
 "nbformat": 4,
 "nbformat_minor": 2
}
