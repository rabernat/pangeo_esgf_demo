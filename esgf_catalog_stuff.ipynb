{
 "cells": [
  {
   "cell_type": "code",
   "execution_count": 12,
   "metadata": {},
   "outputs": [],
   "source": [
    "import intake\n",
    "import xarray as xr"
   ]
  },
  {
   "cell_type": "code",
   "execution_count": 16,
   "metadata": {},
   "outputs": [
    {
     "data": {
      "text/plain": [
       "{'container': 'catalog',\n",
       " 'shape': None,\n",
       " 'dtype': None,\n",
       " 'datashape': None,\n",
       " 'metadata': {}}"
      ]
     },
     "execution_count": 16,
     "metadata": {},
     "output_type": "execute_result"
    }
   ],
   "source": [
    "cat = intake.Catalog('test_cat.yaml')\n",
    "cat.discover()"
   ]
  },
  {
   "cell_type": "code",
   "execution_count": 17,
   "metadata": {},
   "outputs": [],
   "source": [
    "ds = cat.newmann_netcdf.to_dask()"
   ]
  },
  {
   "cell_type": "code",
   "execution_count": 18,
   "metadata": {},
   "outputs": [
    {
     "data": {
      "text/plain": [
       "<xarray.Dataset>\n",
       "Dimensions:    (bnds: 2, lat: 90, lon: 144, time: 600)\n",
       "Coordinates:\n",
       "  * time       (time) object 1951-01-16 12:00:00 ... 2000-12-16 12:00:00\n",
       "  * lat        (lat) float64 -89.0 -87.0 -85.0 -83.0 ... 83.0 85.0 87.0 89.0\n",
       "  * lon        (lon) float64 1.25 3.75 6.25 8.75 ... 351.2 353.8 356.2 358.8\n",
       "    height     float64 ...\n",
       "Dimensions without coordinates: bnds\n",
       "Data variables:\n",
       "    time_bnds  (time, bnds) float64 dask.array<shape=(600, 2), chunksize=(12, 2)>\n",
       "    lat_bnds   (lat, bnds) float64 dask.array<shape=(90, 2), chunksize=(90, 2)>\n",
       "    lon_bnds   (lon, bnds) float64 dask.array<shape=(144, 2), chunksize=(144, 2)>\n",
       "    tas        (time, lat, lon) float32 dask.array<shape=(600, 90, 144), chunksize=(12, 90, 144)>\n",
       "Attributes:\n",
       "    Conventions:                     CF-1.7 CMIP-6.2\n",
       "    activity_id:                     CMIP\n",
       "    branch_method:                   standard\n",
       "    branch_time_in_child:            0.0\n",
       "    branch_time_in_parent:           0.0\n",
       "    contact:                         Kenneth Lo (cdkkl@giss.nasa.gov)\n",
       "    creation_date:                   2018-08-27T13:00:11Z\n",
       "    data_specs_version:              01.00.23\n",
       "    experiment:                      all-forcing simulation of the recent past\n",
       "    experiment_id:                   historical\n",
       "    external_variables:              areacella\n",
       "    forcing_index:                   1\n",
       "    frequency:                       mon\n",
       "    further_info_url:                https://furtherinfo.es-doc.org/CMIP6.NAS...\n",
       "    grid:                            atmospheric grid: 144x90, ocean grid: 28...\n",
       "    grid_label:                      gn\n",
       "    history:                         2018-08-27T13:00:11Z ; CMOR rewrote data...\n",
       "    initialization_index:            1\n",
       "    institution:                     Goddard Institute for Space Studies, New...\n",
       "    institution_id:                  NASA-GISS\n",
       "    mip_era:                         CMIP6\n",
       "    model_id:                        E200f10aF40oQ40\n",
       "    nominal_resolution:              250 km\n",
       "    parent_activity_id:              CMIP\n",
       "    parent_experiment_id:            piControl\n",
       "    parent_experiment_rip:           r1i1p1\n",
       "    parent_mip_era:                  CMIP6\n",
       "    parent_source_id:                GISS-E2-1-G\n",
       "    parent_time_units:               days since 4150-1-1\n",
       "    parent_variant_label:            r1i1p1f1\n",
       "    physics_index:                   1\n",
       "    product:                         model-output\n",
       "    realization_index:               1\n",
       "    realm:                           atmos\n",
       "    references:                      https://data.giss.nasa.gov/modelE/cmip6\n",
       "    source:                          GISS-E2.1G (2016): \\naerosol: Varies wit...\n",
       "    source_id:                       GISS-E2-1-G\n",
       "    source_type:                     AOGCM\n",
       "    sub_experiment:                  none\n",
       "    sub_experiment_id:               none\n",
       "    table_id:                        Amon\n",
       "    table_info:                      Creation Date:(21 March 2018) MD5:652eaa...\n",
       "    title:                           GISS-E2-1-G output prepared for CMIP6\n",
       "    tracking_id:                     hdl:21.14100/a3eb02f6-c30f-4b8f-9afd-cc0...\n",
       "    variable_id:                     tas\n",
       "    variant_label:                   r1i1p1f1\n",
       "    license:                         CMIP6 model data produced by NASA Goddar...\n",
       "    cmor_version:                    3.3.2\n",
       "    DODS_EXTRA.Unlimited_Dimension:  time"
      ]
     },
     "execution_count": 18,
     "metadata": {},
     "output_type": "execute_result"
    }
   ],
   "source": [
    "ds"
   ]
  },
  {
   "cell_type": "code",
   "execution_count": null,
   "metadata": {},
   "outputs": [],
   "source": []
  }
 ],
 "metadata": {
  "kernelspec": {
   "display_name": "Python 3",
   "language": "python",
   "name": "python3"
  },
  "language_info": {
   "codemirror_mode": {
    "name": "ipython",
    "version": 3
   },
   "file_extension": ".py",
   "mimetype": "text/x-python",
   "name": "python",
   "nbconvert_exporter": "python",
   "pygments_lexer": "ipython3",
   "version": "3.6.6"
  }
 },
 "nbformat": 4,
 "nbformat_minor": 2
}
